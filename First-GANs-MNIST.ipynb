{
  "nbformat": 4,
  "nbformat_minor": 0,
  "metadata": {
    "colab": {
      "name": "Chap 17 - GANs.ipynb",
      "provenance": []
    },
    "kernelspec": {
      "name": "python3",
      "display_name": "Python 3"
    },
    "accelerator": "GPU",
    "widgets": {
      "application/vnd.jupyter.widget-state+json": {
        "b8ffd508d71a41bf83a491aadb32696e": {
          "model_module": "@jupyter-widgets/controls",
          "model_name": "HBoxModel",
          "state": {
            "_view_name": "HBoxView",
            "_dom_classes": [],
            "_model_name": "HBoxModel",
            "_view_module": "@jupyter-widgets/controls",
            "_model_module_version": "1.5.0",
            "_view_count": null,
            "_view_module_version": "1.5.0",
            "box_style": "",
            "layout": "IPY_MODEL_a4778e3e17ce4b14a4924578e2959575",
            "_model_module": "@jupyter-widgets/controls",
            "children": [
              "IPY_MODEL_1a56b3e2947d4564852b7cf85d3cd61c",
              "IPY_MODEL_7f39e032c71e4409a3db22b53de4353c"
            ]
          }
        },
        "a4778e3e17ce4b14a4924578e2959575": {
          "model_module": "@jupyter-widgets/base",
          "model_name": "LayoutModel",
          "state": {
            "_view_name": "LayoutView",
            "grid_template_rows": null,
            "right": null,
            "justify_content": null,
            "_view_module": "@jupyter-widgets/base",
            "overflow": null,
            "_model_module_version": "1.2.0",
            "_view_count": null,
            "flex_flow": null,
            "width": null,
            "min_width": null,
            "border": null,
            "align_items": null,
            "bottom": null,
            "_model_module": "@jupyter-widgets/base",
            "top": null,
            "grid_column": null,
            "overflow_y": null,
            "overflow_x": null,
            "grid_auto_flow": null,
            "grid_area": null,
            "grid_template_columns": null,
            "flex": null,
            "_model_name": "LayoutModel",
            "justify_items": null,
            "grid_row": null,
            "max_height": null,
            "align_content": null,
            "visibility": null,
            "align_self": null,
            "height": null,
            "min_height": null,
            "padding": null,
            "grid_auto_rows": null,
            "grid_gap": null,
            "max_width": null,
            "order": null,
            "_view_module_version": "1.2.0",
            "grid_template_areas": null,
            "object_position": null,
            "object_fit": null,
            "grid_auto_columns": null,
            "margin": null,
            "display": null,
            "left": null
          }
        },
        "1a56b3e2947d4564852b7cf85d3cd61c": {
          "model_module": "@jupyter-widgets/controls",
          "model_name": "IntProgressModel",
          "state": {
            "_view_name": "ProgressView",
            "style": "IPY_MODEL_74ebc2d591ca4c339cd8230e1c925ccb",
            "_dom_classes": [],
            "description": "  0%",
            "_model_name": "IntProgressModel",
            "bar_style": "",
            "max": 300,
            "_view_module": "@jupyter-widgets/controls",
            "_model_module_version": "1.5.0",
            "value": 1,
            "_view_count": null,
            "_view_module_version": "1.5.0",
            "orientation": "horizontal",
            "min": 0,
            "description_tooltip": null,
            "_model_module": "@jupyter-widgets/controls",
            "layout": "IPY_MODEL_72cf775beb6843b7850ec259f3961eda"
          }
        },
        "7f39e032c71e4409a3db22b53de4353c": {
          "model_module": "@jupyter-widgets/controls",
          "model_name": "HTMLModel",
          "state": {
            "_view_name": "HTMLView",
            "style": "IPY_MODEL_cf03879bd52940059d8055f0d4d1c7b7",
            "_dom_classes": [],
            "description": "",
            "_model_name": "HTMLModel",
            "placeholder": "​",
            "_view_module": "@jupyter-widgets/controls",
            "_model_module_version": "1.5.0",
            "value": " 1/300 [00:19&lt;1:36:11, 19.30s/it]",
            "_view_count": null,
            "_view_module_version": "1.5.0",
            "description_tooltip": null,
            "_model_module": "@jupyter-widgets/controls",
            "layout": "IPY_MODEL_fee0cf0a00e54b59931df9db29458a48"
          }
        },
        "74ebc2d591ca4c339cd8230e1c925ccb": {
          "model_module": "@jupyter-widgets/controls",
          "model_name": "ProgressStyleModel",
          "state": {
            "_view_name": "StyleView",
            "_model_name": "ProgressStyleModel",
            "description_width": "initial",
            "_view_module": "@jupyter-widgets/base",
            "_model_module_version": "1.5.0",
            "_view_count": null,
            "_view_module_version": "1.2.0",
            "bar_color": null,
            "_model_module": "@jupyter-widgets/controls"
          }
        },
        "72cf775beb6843b7850ec259f3961eda": {
          "model_module": "@jupyter-widgets/base",
          "model_name": "LayoutModel",
          "state": {
            "_view_name": "LayoutView",
            "grid_template_rows": null,
            "right": null,
            "justify_content": null,
            "_view_module": "@jupyter-widgets/base",
            "overflow": null,
            "_model_module_version": "1.2.0",
            "_view_count": null,
            "flex_flow": null,
            "width": null,
            "min_width": null,
            "border": null,
            "align_items": null,
            "bottom": null,
            "_model_module": "@jupyter-widgets/base",
            "top": null,
            "grid_column": null,
            "overflow_y": null,
            "overflow_x": null,
            "grid_auto_flow": null,
            "grid_area": null,
            "grid_template_columns": null,
            "flex": null,
            "_model_name": "LayoutModel",
            "justify_items": null,
            "grid_row": null,
            "max_height": null,
            "align_content": null,
            "visibility": null,
            "align_self": null,
            "height": null,
            "min_height": null,
            "padding": null,
            "grid_auto_rows": null,
            "grid_gap": null,
            "max_width": null,
            "order": null,
            "_view_module_version": "1.2.0",
            "grid_template_areas": null,
            "object_position": null,
            "object_fit": null,
            "grid_auto_columns": null,
            "margin": null,
            "display": null,
            "left": null
          }
        },
        "cf03879bd52940059d8055f0d4d1c7b7": {
          "model_module": "@jupyter-widgets/controls",
          "model_name": "DescriptionStyleModel",
          "state": {
            "_view_name": "StyleView",
            "_model_name": "DescriptionStyleModel",
            "description_width": "",
            "_view_module": "@jupyter-widgets/base",
            "_model_module_version": "1.5.0",
            "_view_count": null,
            "_view_module_version": "1.2.0",
            "_model_module": "@jupyter-widgets/controls"
          }
        },
        "fee0cf0a00e54b59931df9db29458a48": {
          "model_module": "@jupyter-widgets/base",
          "model_name": "LayoutModel",
          "state": {
            "_view_name": "LayoutView",
            "grid_template_rows": null,
            "right": null,
            "justify_content": null,
            "_view_module": "@jupyter-widgets/base",
            "overflow": null,
            "_model_module_version": "1.2.0",
            "_view_count": null,
            "flex_flow": null,
            "width": null,
            "min_width": null,
            "border": null,
            "align_items": null,
            "bottom": null,
            "_model_module": "@jupyter-widgets/base",
            "top": null,
            "grid_column": null,
            "overflow_y": null,
            "overflow_x": null,
            "grid_auto_flow": null,
            "grid_area": null,
            "grid_template_columns": null,
            "flex": null,
            "_model_name": "LayoutModel",
            "justify_items": null,
            "grid_row": null,
            "max_height": null,
            "align_content": null,
            "visibility": null,
            "align_self": null,
            "height": null,
            "min_height": null,
            "padding": null,
            "grid_auto_rows": null,
            "grid_gap": null,
            "max_width": null,
            "order": null,
            "_view_module_version": "1.2.0",
            "grid_template_areas": null,
            "object_position": null,
            "object_fit": null,
            "grid_auto_columns": null,
            "margin": null,
            "display": null,
            "left": null
          }
        }
      }
    }
  },
  "cells": [
    {
      "cell_type": "code",
      "metadata": {
        "id": "Auo-e7FUkyI-",
        "colab_type": "code",
        "colab": {}
      },
      "source": [
        "import tensorflow as tf\n",
        "#import tensorflow_gan as tfgan\n",
        "import tensorflow_datasets as tfds\n",
        "import matplotlib.pyplot as plt\n",
        "import numpy as np\n",
        "\n",
        "%matplotlib inline\n",
        "# tf.logging.set_verbosity(tf.logging.ERROR)"
      ],
      "execution_count": 0,
      "outputs": []
    },
    {
      "cell_type": "code",
      "metadata": {
        "id": "lQIke1Y4m8IB",
        "colab_type": "code",
        "outputId": "8efe28eb-5d6a-49eb-d785-0e73ca52f0f5",
        "colab": {
          "base_uri": "https://localhost:8080/",
          "height": 71
        }
      },
      "source": [
        "from tensorflow.keras import Sequential, Model\n",
        "from tensorflow.keras.layers import Dense, LeakyReLU, Dropout,Input\n",
        "from tensorflow.keras.optimizers import Adam, RMSprop\n",
        "import random\n",
        "from tensorflow.keras.datasets import mnist\n",
        "\n",
        "(X_train, y_train), (X_test, y_test) = mnist.load_data()"
      ],
      "execution_count": 0,
      "outputs": [
        {
          "output_type": "stream",
          "text": [
            "Downloading data from https://storage.googleapis.com/tensorflow/tf-keras-datasets/mnist.npz\n",
            "11493376/11490434 [==============================] - 0s 0us/step\n"
          ],
          "name": "stdout"
        }
      ]
    },
    {
      "cell_type": "code",
      "metadata": {
        "id": "anG8L_k0n-0J",
        "colab_type": "code",
        "colab": {}
      },
      "source": [
        "## Preprocessing\n",
        "\n",
        "X_train = X_train.reshape(X_train.shape[0], \n",
        "                          np.prod(X_train[0].shape))\n",
        "X_test = X_test.reshape(X_test.shape[0], \n",
        "                          np.prod(X_test[0].shape))\n",
        "\n",
        "# Normalizer dtype\n",
        "\n",
        "X_train = X_train.astype('float32')/255.0\n",
        "X_test = X_test.astype('float32')/255.0"
      ],
      "execution_count": 0,
      "outputs": []
    },
    {
      "cell_type": "code",
      "metadata": {
        "id": "9crKzrYVok1J",
        "colab_type": "code",
        "colab": {}
      },
      "source": [
        "# So chieu cua noise vector input ban dau\n",
        "z_dim = 100"
      ],
      "execution_count": 0,
      "outputs": []
    },
    {
      "cell_type": "code",
      "metadata": {
        "id": "2MiDZtciotHr",
        "colab_type": "code",
        "colab": {}
      },
      "source": [
        "# Optimizer\n",
        "\n",
        "adam = Adam(learning_rate = 0.0002, beta_1 = 0.5)"
      ],
      "execution_count": 0,
      "outputs": []
    },
    {
      "cell_type": "code",
      "metadata": {
        "id": "lQxmrib8o8c5",
        "colab_type": "code",
        "outputId": "e873e195-d49d-4810-a14e-b7c711ff3093",
        "colab": {
          "base_uri": "https://localhost:8080/",
          "height": 309
        }
      },
      "source": [
        "# Generator Model\n",
        "g = Sequential()\n",
        "\n",
        "g.add(Dense(units = 256, input_dim = z_dim, activation = LeakyReLU(0.2)))\n",
        "g.add(Dense(units = 512, activation = LeakyReLU(0.2)))\n",
        "g.add(Dense(units = 1024, activation = LeakyReLU(0.2)))\n",
        "g.add(Dense(units = 784, activation = 'sigmoid'))\n",
        "\n",
        "g.compile(loss = 'binary_crossentropy', optimizer = adam, \n",
        "          metrics = ['accuracy'])\n",
        "\n",
        "g.summary()"
      ],
      "execution_count": 0,
      "outputs": [
        {
          "output_type": "stream",
          "text": [
            "Model: \"sequential\"\n",
            "_________________________________________________________________\n",
            "Layer (type)                 Output Shape              Param #   \n",
            "=================================================================\n",
            "dense (Dense)                (None, 256)               25856     \n",
            "_________________________________________________________________\n",
            "dense_1 (Dense)              (None, 512)               131584    \n",
            "_________________________________________________________________\n",
            "dense_2 (Dense)              (None, 1024)              525312    \n",
            "_________________________________________________________________\n",
            "dense_3 (Dense)              (None, 784)               803600    \n",
            "=================================================================\n",
            "Total params: 1,486,352\n",
            "Trainable params: 1,486,352\n",
            "Non-trainable params: 0\n",
            "_________________________________________________________________\n"
          ],
          "name": "stdout"
        }
      ]
    },
    {
      "cell_type": "code",
      "metadata": {
        "id": "LDtQBt_JqzA7",
        "colab_type": "code",
        "outputId": "b75e22a1-e59f-45c8-9fad-b2ccd1bb6147",
        "colab": {
          "base_uri": "https://localhost:8080/",
          "height": 411
        }
      },
      "source": [
        "## Discriminator Model\n",
        "\n",
        "d = Sequential()\n",
        "\n",
        "d.add(Dense(1024, input_dim = 784, activation = LeakyReLU(0.2)))\n",
        "d.add(Dropout(0.25))\n",
        "d.add(Dense(512, activation = LeakyReLU(0.2)))\n",
        "d.add(Dropout(0.25))\n",
        "d.add(Dense(256, activation = LeakyReLU(0.2)))\n",
        "d.add(Dropout(0.25))\n",
        "d.add(Dense(1, activation = 'sigmoid'))\n",
        "\n",
        "d.compile(loss= 'binary_crossentropy', \n",
        "          optimizer = adam,\n",
        "          metrics = ['accuracy'])\n",
        "\n",
        "d.summary()"
      ],
      "execution_count": 0,
      "outputs": [
        {
          "output_type": "stream",
          "text": [
            "Model: \"sequential_1\"\n",
            "_________________________________________________________________\n",
            "Layer (type)                 Output Shape              Param #   \n",
            "=================================================================\n",
            "dense_4 (Dense)              (None, 1024)              803840    \n",
            "_________________________________________________________________\n",
            "dropout (Dropout)            (None, 1024)              0         \n",
            "_________________________________________________________________\n",
            "dense_5 (Dense)              (None, 512)               524800    \n",
            "_________________________________________________________________\n",
            "dropout_1 (Dropout)          (None, 512)               0         \n",
            "_________________________________________________________________\n",
            "dense_6 (Dense)              (None, 256)               131328    \n",
            "_________________________________________________________________\n",
            "dropout_2 (Dropout)          (None, 256)               0         \n",
            "_________________________________________________________________\n",
            "dense_7 (Dense)              (None, 1)                 257       \n",
            "=================================================================\n",
            "Total params: 1,460,225\n",
            "Trainable params: 1,460,225\n",
            "Non-trainable params: 0\n",
            "_________________________________________________________________\n"
          ],
          "name": "stdout"
        }
      ]
    },
    {
      "cell_type": "code",
      "metadata": {
        "id": "j_oiz6lEsstU",
        "colab_type": "code",
        "outputId": "bec3c525-b4f6-4425-f12e-bcfaab5166ad",
        "colab": {
          "base_uri": "https://localhost:8080/",
          "height": 275
        }
      },
      "source": [
        "d.trainable = False\n",
        "\n",
        "inputs = Input(shape = (z_dim, ))\n",
        "\n",
        "g_output = g(inputs)\n",
        "output = d(g_output)\n",
        "\n",
        "gan = Model(inputs, output)\n",
        "gan.compile(loss = 'binary_crossentropy', \n",
        "            optimizer = adam, \n",
        "            metrics = ['accuracy'])\n",
        "\n",
        "gan.summary()"
      ],
      "execution_count": 0,
      "outputs": [
        {
          "output_type": "stream",
          "text": [
            "Model: \"model\"\n",
            "_________________________________________________________________\n",
            "Layer (type)                 Output Shape              Param #   \n",
            "=================================================================\n",
            "input_1 (InputLayer)         [(None, 100)]             0         \n",
            "_________________________________________________________________\n",
            "sequential (Sequential)      (None, 784)               1486352   \n",
            "_________________________________________________________________\n",
            "sequential_1 (Sequential)    (None, 1)                 1460225   \n",
            "=================================================================\n",
            "Total params: 2,946,577\n",
            "Trainable params: 1,486,352\n",
            "Non-trainable params: 1,460,225\n",
            "_________________________________________________________________\n"
          ],
          "name": "stdout"
        }
      ]
    },
    {
      "cell_type": "code",
      "metadata": {
        "id": "JBBRgKBmuBx7",
        "colab_type": "code",
        "colab": {}
      },
      "source": [
        "# Draw loss function\n",
        "def plot_loss(losses):\n",
        "    d_loss = [v[0] for v in losses['D']]\n",
        "    g_loss = [v[0] for v in losses['G']]\n",
        "\n",
        "    plt.figure(fig_size = (10,10))\n",
        "    plt.plot(d_loss, label = 'Disc. Loss')\n",
        "    plt.plot(g_loss, label = 'Gen. Loss') \n",
        "\n",
        "    plt.xlabel('Epochs')\n",
        "    plt.ylable('Loss')\n",
        "    plt.legend()\n",
        "    plt.show()\n",
        "\n",
        "# Draw sample from Generator\n",
        "def plot_generated(n_ex = 10, dim = (1,10), figsize= (8,4)):\n",
        "    noise = np.random.normal(0,1,size= (n_ex, z_dim))\n",
        "    generated_image = g.predict(noise)\n",
        "    generated_image = generated_image.reshape(n_ex, 28, 28)\n",
        "\n",
        "    plt.figure()\n",
        "    for i in range(generated_image.shape[0]):\n",
        "        plt.subplot(dim[0], dim[1], i+1)\n",
        "        plt.imshow(generated_image[i],\n",
        "                   interpolation='nearest',\n",
        "                   cmap = 'gray_r')\n",
        "        plt.axis('off')\n",
        "    plt.tight_layout()\n",
        "    plt.show()\n",
        "        "
      ],
      "execution_count": 0,
      "outputs": []
    },
    {
      "cell_type": "code",
      "metadata": {
        "id": "E4Vghw7Mx-S_",
        "colab_type": "code",
        "colab": {}
      },
      "source": [
        "# Save loss and accuracy values\n",
        "\n",
        "losses = {'D': [], 'G': []}"
      ],
      "execution_count": 0,
      "outputs": []
    },
    {
      "cell_type": "code",
      "metadata": {
        "id": "0ye5RsnOzKvV",
        "colab_type": "code",
        "colab": {}
      },
      "source": [
        "from tqdm import tqdm_notebook as notebook"
      ],
      "execution_count": 0,
      "outputs": []
    },
    {
      "cell_type": "code",
      "metadata": {
        "id": "0eMjqmZRyFcu",
        "colab_type": "code",
        "colab": {}
      },
      "source": [
        "def train(epochs = 1, plt_frq = 1, BATCH_SIZE = 128):\n",
        "    batchCount = int(X_train.shape[0]/ BATCH_SIZE)\n",
        "    print('Epochs:', epochs)\n",
        "    print('Batch size:', BATCH_SIZE)\n",
        "    print('Batches per epoch:', batchCount)\n",
        "    for e in notebook(range(1, epochs + 1)):\n",
        "        if e == 1 or e%plt_frq == 0:\n",
        "            print('-'*15, \"Epoch %d\" % e, '-'*15)\n",
        "        for _ in range(batchCount):\n",
        "            # Lay ngau nhien anh tu MNIST dataset (real)\n",
        "            image_batch = X_train[np.random.randint(0,X_train.shape[0], size = BATCH_SIZE)]\n",
        "            # Noise random vector input\n",
        "            noise = np.random.normal(0,1,size = (BATCH_SIZE, z_dim))\n",
        "            # Generator sinh ra tu and noise\n",
        "            generated_images = g.predict(noise)\n",
        "            X = np.concatenate((image_batch, generated_images))\n",
        "            y = np.zeros(2*BATCH_SIZE)\n",
        "            y[:BATCH_SIZE] = 0.9\n",
        "\n",
        "            # Train Discriminator\n",
        "            d.trainable = True\n",
        "            d_loss = d.train_on_batch(X,y)\n",
        "\n",
        "            # Train Generator\n",
        "            noise = np.random.normal(0,1,size = (BATCH_SIZE, z_dim))\n",
        "            ## Khi train generator gan label bang 1 de lua Discriminator\n",
        "            y2 = np.ones(BATCH_SIZE)\n",
        "            ## Khi train generator khong cap nhat he so cua Disciminator\n",
        "            d.trainable = False\n",
        "            g_loss = gan.train_on_batch(noise, y2)\n",
        "        \n",
        "        #Save loss function\n",
        "        losses['D'].append(d_loss)\n",
        "        losses['G'].append(g_loss)\n",
        "\n",
        "        # Vẽ các số được sinh ra để kiểm tra kết quả\n",
        "        if e == 1 or e%plt_frq == 0:\n",
        "            plot_generated()\n",
        "    plot_loss(losses)"
      ],
      "execution_count": 0,
      "outputs": []
    },
    {
      "cell_type": "code",
      "metadata": {
        "id": "XpAwYvG0zI0C",
        "colab_type": "code",
        "outputId": "096cb39b-09a6-4087-d0e1-be8f3f284657",
        "colab": {
          "base_uri": "https://localhost:8080/",
          "height": 273,
          "referenced_widgets": [
            "b8ffd508d71a41bf83a491aadb32696e",
            "a4778e3e17ce4b14a4924578e2959575",
            "1a56b3e2947d4564852b7cf85d3cd61c",
            "7f39e032c71e4409a3db22b53de4353c",
            "74ebc2d591ca4c339cd8230e1c925ccb",
            "72cf775beb6843b7850ec259f3961eda",
            "cf03879bd52940059d8055f0d4d1c7b7",
            "fee0cf0a00e54b59931df9db29458a48"
          ]
        }
      },
      "source": [
        "train(epochs=300, plt_frq=20, BATCH_SIZE=128)"
      ],
      "execution_count": 0,
      "outputs": [
        {
          "output_type": "stream",
          "text": [
            "Epochs: 300\n",
            "Batch size: 128\n",
            "Batches per epoch: 468\n"
          ],
          "name": "stdout"
        },
        {
          "output_type": "stream",
          "text": [
            "/usr/local/lib/python3.6/dist-packages/ipykernel_launcher.py:6: TqdmDeprecationWarning: This function will be removed in tqdm==5.0.0\n",
            "Please use `tqdm.notebook.tqdm` instead of `tqdm.tqdm_notebook`\n",
            "  \n"
          ],
          "name": "stderr"
        },
        {
          "output_type": "display_data",
          "data": {
            "application/vnd.jupyter.widget-view+json": {
              "model_id": "b8ffd508d71a41bf83a491aadb32696e",
              "version_minor": 0,
              "version_major": 2
            },
            "text/plain": [
              "HBox(children=(IntProgress(value=0, max=300), HTML(value='')))"
            ]
          },
          "metadata": {
            "tags": []
          }
        },
        {
          "output_type": "stream",
          "text": [
            "--------------- Epoch 1 ---------------\n"
          ],
          "name": "stdout"
        },
        {
          "output_type": "display_data",
          "data": {
            "image/png": "[encoded data removed]",
            "text/plain": [
              "<Figure size 432x288 with 10 Axes>"
            ]
          },
          "metadata": {
            "tags": [],
            "needs_background": "light"
          }
        }
      ]
    },
    {
      "cell_type": "code",
      "metadata": {
        "id": "h_yBGm_F95F3",
        "colab_type": "code",
        "colab": {}
      },
      "source": [
        ""
      ],
      "execution_count": 0,
      "outputs": []
    }
  ]
}