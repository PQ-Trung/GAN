{
  "nbformat": 4,
  "nbformat_minor": 0,
  "metadata": {
    "colab": {
      "name": "GAN-book",
      "provenance": []
    },
    "kernelspec": {
      "name": "python3",
      "display_name": "Python 3"
    },
    "accelerator": "GPU"
  },
  "cells": [
    {
      "cell_type": "code",
      "metadata": {
        "id": "KokDYn7nmpgw",
        "colab_type": "code",
        "colab": {}
      },
      "source": [
        "import tensorflow as tf\n",
        "import numpy as np\n",
        "import matplotlib.pyplot as plt\n",
        "from tensorflow.keras.models import Sequential\n",
        "from tensorflow.keras.layers import Dense\n",
        "from tensorflow.keras.layers import LeakyReLU"
      ],
      "execution_count": 0,
      "outputs": []
    },
    {
      "cell_type": "code",
      "metadata": {
        "id": "EjtnBl-imgfN",
        "colab_type": "code",
        "colab": {}
      },
      "source": [
        "def generate_samples(n=1000):\n",
        "    X1 = np.random.rand(n) - 0.5 # -0.5 -> 0.5\n",
        "    X2 = X1**2\n",
        "    X1 = X1.reshape(n,1)\n",
        "    X2 = X2.reshape(n,1)\n",
        "    return np.hstack((X1, X2)) # array 2 cols"
      ],
      "execution_count": 0,
      "outputs": []
    },
    {
      "cell_type": "code",
      "metadata": {
        "id": "ywWjdJ6joSwQ",
        "colab_type": "code",
        "colab": {
          "base_uri": "https://localhost:8080/",
          "height": 265
        },
        "outputId": "4f0e55dc-d48d-4ddd-a576-c83d856a71fd"
      },
      "source": [
        "data = generate_samples()\n",
        "plt.scatter(data[:,0],data[:,1],alpha = 0.1)\n",
        "plt.show()"
      ],
      "execution_count": 109,
      "outputs": [
        {
          "output_type": "display_data",
          "data": {
            "image/png": "[encoded data removed]",
            "text/plain": [
              "<Figure size 432x288 with 1 Axes>"
            ]
          },
          "metadata": {
            "tags": [],
            "needs_background": "light"
          }
        }
      ]
    },
    {
      "cell_type": "code",
      "metadata": {
        "id": "5cc6UgBmpElm",
        "colab_type": "code",
        "colab": {}
      },
      "source": [
        "def define_discriminator(n_inputs = 2):\n",
        "    model = Sequential()\n",
        "    model.add(Dense(32, \n",
        "                    kernel_initializer = 'he_uniform',\n",
        "                    input_dim = n_inputs))\n",
        "    model.add(LeakyReLU(alpha = 0.2))\n",
        "    model.add(Dense(1,activation = 'sigmoid'))\n",
        "    \n",
        "    model.compile(loss = 'binary_crossentropy',\n",
        "                  optimizer = 'adam', metrics = ['accuracy'])\n",
        "    return model"
      ],
      "execution_count": 0,
      "outputs": []
    },
    {
      "cell_type": "code",
      "metadata": {
        "id": "abrVRXglqg1b",
        "colab_type": "code",
        "colab": {}
      },
      "source": [
        "from tensorflow.keras.utils import plot_model"
      ],
      "execution_count": 0,
      "outputs": []
    },
    {
      "cell_type": "code",
      "metadata": {
        "id": "HgCo4NMLqgz6",
        "colab_type": "code",
        "colab": {}
      },
      "source": [
        "# model = define_discriminator()\n",
        "\n",
        "# model.summary()\n",
        "\n",
        "# plot_model(model, to_file = 'discri_plot.png',show_shapes = True)"
      ],
      "execution_count": 0,
      "outputs": []
    },
    {
      "cell_type": "code",
      "metadata": {
        "id": "JaoB_5WsrBam",
        "colab_type": "code",
        "colab": {}
      },
      "source": [
        "# def generate_fake_samples(n):\n",
        "#     X1 = -1 + np.random.rand(n)*2 #[-1,1]\n",
        "#     X2 = -1 + np.random.rand(n)*2 #[-1,1]\n",
        "\n",
        "#     X1 = X1.reshape(n,1)\n",
        "#     X2 = X2.reshape(n,1)\n",
        "#     X = np.hstack((X1,X2))\n",
        "#     y = np.zeros((n,1))\n",
        "#     return X, y\n"
      ],
      "execution_count": 0,
      "outputs": []
    },
    {
      "cell_type": "code",
      "metadata": {
        "id": "MCR17tmSthHU",
        "colab_type": "code",
        "colab": {}
      },
      "source": [
        "def generate_real_samples(n=1000):\n",
        "    X1 = np.random.rand(n)*2 - 1 # [-1.0,1.0]\n",
        "    X2 = X1**2\n",
        "    X1 = X1.reshape(n,1)\n",
        "    X2 = X2.reshape(n,1)\n",
        "    \n",
        "    X = np.hstack((X1,X2))\n",
        "    y = np.ones((n,1))\n",
        "    return X, y"
      ],
      "execution_count": 0,
      "outputs": []
    },
    {
      "cell_type": "code",
      "metadata": {
        "id": "I4gaXdyXstW7",
        "colab_type": "code",
        "colab": {}
      },
      "source": [
        "# def train_discriminator(model, n_epochs = 1000, n_batch =128):\n",
        "#     half_batch = int(n_batch /2)\n",
        "#     for i in range(n_epochs):\n",
        "#         X_real, y_real = generate_real_samples(half_batch)\n",
        "#         X_fake, y_fake = generate_fake_samples(half_batch)\n",
        "#         model.train_on_batch(X_real, y_real)\n",
        "#         model.train_on_batch(X_fake, y_fake)\n",
        "\n",
        "#         _, acc_real = model.evaluate(X_real, y_real, verbose = 0)\n",
        "#         _, acc_fake = model.evaluate(X_fake, y_fake, verbose = 0)\n",
        "#         print(i, acc_real, acc_fake)"
      ],
      "execution_count": 0,
      "outputs": []
    },
    {
      "cell_type": "code",
      "metadata": {
        "id": "kYr-zB47vatM",
        "colab_type": "code",
        "colab": {}
      },
      "source": [
        "# model = define_discriminator()\n",
        "# train_discriminator(model)"
      ],
      "execution_count": 0,
      "outputs": []
    },
    {
      "cell_type": "code",
      "metadata": {
        "id": "H_fcwbkXvgic",
        "colab_type": "code",
        "colab": {}
      },
      "source": [
        "def define_generator(latent_dim, n_outputs = 2):\n",
        "    model = Sequential()\n",
        "    model.add(Dense(16, \n",
        "                    kernel_initializer='he_uniform',\n",
        "                    input_dim = latent_dim))\n",
        "    model.add(LeakyReLU(alpha = 0.2))\n",
        "    model.add(Dense(n_outputs, activation = 'linear'))\n",
        "    return model\n"
      ],
      "execution_count": 0,
      "outputs": []
    },
    {
      "cell_type": "code",
      "metadata": {
        "id": "YtrfI7InySN4",
        "colab_type": "code",
        "colab": {}
      },
      "source": [
        "# model = define_generator(5)\n",
        "# model.summary()\n",
        "# plot_model(model, to_file='gener_plot.png', show_shapes= True)\n"
      ],
      "execution_count": 0,
      "outputs": []
    },
    {
      "cell_type": "code",
      "metadata": {
        "id": "aNkneLqCyi_1",
        "colab_type": "code",
        "colab": {}
      },
      "source": [
        "def generate_latent_points(latent_dim, n):\n",
        "    x_input = np.random.randn(latent_dim*n)\n",
        "    x_input = x_input.reshape(n, latent_dim)\n",
        "    return x_input"
      ],
      "execution_count": 0,
      "outputs": []
    },
    {
      "cell_type": "code",
      "metadata": {
        "id": "PbIUxd2WzIQp",
        "colab_type": "code",
        "colab": {}
      },
      "source": [
        "def generate_fake_samples(generator, latent_dim, n):\n",
        "    x_input = generate_latent_points(latent_dim, n)\n",
        "    X = generator.predict(x_input)\n",
        "    y = np.zeros((n,1))\n",
        "    return X, y\n",
        "    # plt.scatter(X[:,0],X[:,1])\n",
        "    # plt.show()"
      ],
      "execution_count": 0,
      "outputs": []
    },
    {
      "cell_type": "code",
      "metadata": {
        "id": "iMeLP-1l0OAH",
        "colab_type": "code",
        "colab": {}
      },
      "source": [
        "# latent_dim = 5\n",
        "# model = define_generator(latent_dim)\n",
        "# generate_fake_samples(model, latent_dim, 100)"
      ],
      "execution_count": 0,
      "outputs": []
    },
    {
      "cell_type": "code",
      "metadata": {
        "id": "eCDxuy070kfp",
        "colab_type": "code",
        "colab": {}
      },
      "source": [
        "def define_gan(generator, discriminator):\n",
        "    discriminator.trainable = False\n",
        "    model = Sequential()\n",
        "    model.add(generator)\n",
        "    model.add(discriminator)\n",
        "    model.compile(loss = 'binary_crossentropy', optimizer = 'adam')\n",
        "    return model"
      ],
      "execution_count": 0,
      "outputs": []
    },
    {
      "cell_type": "code",
      "metadata": {
        "id": "3Z_IAmC00_Cx",
        "colab_type": "code",
        "colab": {}
      },
      "source": [
        "# latent_dim = 5\n",
        "\n",
        "# discriminator = define_discriminator()\n",
        "\n",
        "# generator = define_generator(latent_dim)\n",
        "\n",
        "# gan_model = define_gan(generator, discriminator)\n",
        "\n",
        "# gan_model.summary()\n",
        "\n",
        "# plot_model(gan_model, to_file='gan_plot.png',\n",
        "#            show_shapes = True)"
      ],
      "execution_count": 0,
      "outputs": []
    },
    {
      "cell_type": "code",
      "metadata": {
        "id": "IlYqWwB73BSP",
        "colab_type": "code",
        "colab": {}
      },
      "source": [
        "def summarize_performance(epoch, generator,\n",
        "                          discriminator, latent_dim, n=100):\n",
        "    x_real, y_real = generate_real_samples(n)\n",
        "    _, acc_real = discriminator.evaluate(x_real, y_real, verbose = 0)\n",
        "\n",
        "    x_fake, y_fake = generate_fake_samples(generator, latent_dim, n)\n",
        "    _, acc_fake = discriminator.evaluate(x_fake, y_fake, verbose = 0)\n",
        "\n",
        "    print(epoch, acc_real, acc_fake)\n",
        "\n",
        "    plt.scatter(x_real[:,0],x_real[:,1], color = 'red')\n",
        "    plt.scatter(x_fake[:,0],x_fake[:,1], color = 'blue')\n",
        "\n",
        "    # save plot to file\n",
        "    filename = 'generated_plot_e%03d.png' % (epoch+1)\n",
        "    plt.savefig(filename)\n",
        "    plt.close()"
      ],
      "execution_count": 0,
      "outputs": []
    },
    {
      "cell_type": "code",
      "metadata": {
        "id": "11aEmCn349HK",
        "colab_type": "code",
        "colab": {}
      },
      "source": [
        "def train(g_model, d_model, gan_model, latent_dim,\n",
        "          n_epochs = 10000, n_batch = 128, n_eval = 2000):\n",
        "    half_batch = int(n_batch/2)\n",
        "\n",
        "    for i in range(n_epochs):\n",
        "        x_real, y_real = generate_real_samples(half_batch)\n",
        "        x_fake, y_fake = generate_fake_samples(g_model, latent_dim, half_batch)\n",
        "        d_model.train_on_batch(x_real, y_real)\n",
        "        d_model.train_on_batch(x_fake, y_fake)\n",
        "        # Danh lua Discriminator\n",
        "        x_gan = generate_latent_points(latent_dim, n_batch)\n",
        "        y_gan = np.ones((n_batch, 1))\n",
        "\n",
        "        gan_model.train_on_batch(x_gan, y_gan)\n",
        "        # evaluate the model every n_eval epochs\n",
        "        if (i+1) % n_eval == 0:\n",
        "            summarize_performance(i, g_model, d_model, latent_dim)"
      ],
      "execution_count": 0,
      "outputs": []
    },
    {
      "cell_type": "code",
      "metadata": {
        "id": "M2Fl6b6r75QS",
        "colab_type": "code",
        "colab": {
          "base_uri": "https://localhost:8080/",
          "height": 107
        },
        "outputId": "ed03f906-3e5d-427b-942d-2ef4b016e28c"
      },
      "source": [
        "latent_dim = 5\n",
        "discriminator = define_discriminator()\n",
        "generator = define_generator(latent_dim)\n",
        "gan_model = define_gan(generator, discriminator)\n",
        "train(generator, discriminator, gan_model, latent_dim)"
      ],
      "execution_count": 126,
      "outputs": [
        {
          "output_type": "stream",
          "text": [
            "1999 0.5 0.6100000143051147\n",
            "3999 0.44999998807907104 0.46000000834465027\n",
            "5999 0.47999998927116394 0.5699999928474426\n",
            "7999 0.6299999952316284 0.5600000023841858\n",
            "9999 0.5199999809265137 0.5099999904632568\n"
          ],
          "name": "stdout"
        }
      ]
    },
    {
      "cell_type": "code",
      "metadata": {
        "id": "b1MZJT9W8Y98",
        "colab_type": "code",
        "colab": {}
      },
      "source": [
        ""
      ],
      "execution_count": 0,
      "outputs": []
    }
  ]
}